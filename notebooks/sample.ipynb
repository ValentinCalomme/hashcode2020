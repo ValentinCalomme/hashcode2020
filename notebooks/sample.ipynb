{
 "cells": [
  {
   "cell_type": "code",
   "execution_count": 1,
   "metadata": {},
   "outputs": [
    {
     "name": "stdout",
     "output_type": "stream",
     "text": [
      "D:\\Source\\hashcode2020\\src\n"
     ]
    }
   ],
   "source": [
    "%cd ../src"
   ]
  },
  {
   "cell_type": "code",
   "execution_count": 2,
   "metadata": {},
   "outputs": [],
   "source": [
    "import os\n",
    "\n",
    "from problem import Problem\n",
    "\n",
    "problems = []\n",
    "\n",
    "folder = \"../data/problems\"\n",
    "\n",
    "for filename in os.listdir(folder):\n",
    "        \n",
    "    problem = Problem(filename=os.path.join(folder, filename), name=filename)\n",
    "    \n",
    "    problems.append(problem)"
   ]
  }
 ],
 "metadata": {
  "kernelspec": {
   "display_name": "hashcode2020",
   "language": "python",
   "name": "hashcode2020"
  },
  "language_info": {
   "codemirror_mode": {
    "name": "ipython",
    "version": 3
   },
   "file_extension": ".py",
   "mimetype": "text/x-python",
   "name": "python",
   "nbconvert_exporter": "python",
   "pygments_lexer": "ipython3",
   "version": "3.7.5"
  }
 },
 "nbformat": 4,
 "nbformat_minor": 4
}
