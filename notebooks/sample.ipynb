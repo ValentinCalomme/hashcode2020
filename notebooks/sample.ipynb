{
 "cells": [
  {
   "cell_type": "code",
   "execution_count": 1,
   "metadata": {},
   "outputs": [
    {
     "name": "stdout",
     "output_type": "stream",
     "text": [
      "D:\\source\\hashcode2020\\src\n"
     ]
    }
   ],
   "source": [
    "%cd ../src"
   ]
  },
  {
   "cell_type": "code",
   "execution_count": 2,
   "metadata": {},
   "outputs": [],
   "source": [
    "import os\n",
    "\n",
    "from problem import Problem\n",
    "\n",
    "problems = {}\n",
    "\n",
    "folder = \"../data/problems\"\n",
    "\n",
    "for filename in os.listdir(folder):\n",
    "    \n",
    "    problems[filename[0]] = Problem(name=filename[0], filename=os.path.join(folder, filename))"
   ]
  },
  {
   "cell_type": "code",
   "execution_count": 4,
   "metadata": {},
   "outputs": [],
   "source": [
    "from solvers.random_solver import RandomSolver\n",
    "from solvers.greedy_solver import GreedySolver\n",
    "\n",
    "solver = RandomSolver()\n",
    "solver = GreedySolver()"
   ]
  },
  {
   "cell_type": "code",
   "execution_count": 5,
   "metadata": {},
   "outputs": [
    {
     "name": "stdout",
     "output_type": "stream",
     "text": [
      "../data/solutions/a.79767aff-5189-4913-9fa1-4e63690a9f2a.solution\n",
      "../data/solutions/b.d5ea47c1-2097-4942-9e4c-0c55e9fafc67.solution\n",
      "../data/solutions/c.c31e5e4d-1709-459f-a03d-68942d496b35.solution\n",
      "../data/solutions/d.552d51d8-ceb1-4423-be4a-9a9125fd7fa7.solution\n",
      "../data/solutions/e.21f3671e-8cfd-4b1e-a335-80293229bf39.solution\n",
      "../data/solutions/f.8f0116e7-9470-4560-b54c-5f64892fb1e7.solution\n"
     ]
    }
   ],
   "source": [
    "for name, problem in problems.items():\n",
    "    \n",
    "    for i, solution in enumerate(solver.yield_solutions(problem)):\n",
    "        print(solution.to_file())\n",
    "        break"
   ]
  },
  {
   "cell_type": "code",
   "execution_count": null,
   "metadata": {},
   "outputs": [],
   "source": []
  }
 ],
 "metadata": {
  "kernelspec": {
   "display_name": "hashcode2020",
   "language": "python",
   "name": "hashcode2020"
  },
  "language_info": {
   "codemirror_mode": {
    "name": "ipython",
    "version": 3
   },
   "file_extension": ".py",
   "mimetype": "text/x-python",
   "name": "python",
   "nbconvert_exporter": "python",
   "pygments_lexer": "ipython3",
   "version": "3.7.5"
  }
 },
 "nbformat": 4,
 "nbformat_minor": 4
}
