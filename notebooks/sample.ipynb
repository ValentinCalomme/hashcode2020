{
 "cells": [
  {
   "cell_type": "code",
   "execution_count": 1,
   "metadata": {},
   "outputs": [
    {
     "name": "stdout",
     "output_type": "stream",
     "text": [
      "D:\\source\\hashcode2020\\src\n"
     ]
    }
   ],
   "source": [
    "%cd ../src"
   ]
  },
  {
   "cell_type": "code",
   "execution_count": 6,
   "metadata": {},
   "outputs": [],
   "source": [
    "import os\n",
    "\n",
    "from problem import Problem\n",
    "\n",
    "problems = {}\n",
    "\n",
    "folder = \"../data/problems\"\n",
    "\n",
    "for filename in os.listdir(folder):\n",
    "    \n",
    "    problems[filename[0]] = Problem(name=filename[0], filename=os.path.join(folder, filename))"
   ]
  },
  {
   "cell_type": "code",
   "execution_count": 7,
   "metadata": {},
   "outputs": [],
   "source": [
    "from solvers.random_solver import RandomSolver\n",
    "\n",
    "solver = RandomSolver()"
   ]
  },
  {
   "cell_type": "code",
   "execution_count": 8,
   "metadata": {},
   "outputs": [
    {
     "name": "stdout",
     "output_type": "stream",
     "text": [
      "../data/solutions/a.c90b4ab5-673f-4262-86b6-c3b24987425d.solution\n",
      "../data/solutions/b.fbfa7c8f-c49f-4080-93fe-0b3407fae66e.solution\n",
      "../data/solutions/c.2a4b69d3-eb77-495a-bed5-26737016ec32.solution\n",
      "../data/solutions/d.3d725b97-fdf9-4a83-8172-509c0efff43b.solution\n",
      "../data/solutions/e.6ae59925-ecec-42bf-8747-abb290b9f61f.solution\n",
      "../data/solutions/f.7f31c1ee-cede-4c84-8ad4-2bd445195e31.solution\n"
     ]
    }
   ],
   "source": [
    "for name, problem in problems.items():\n",
    "    \n",
    "    for i, solution in enumerate(solver.yield_solutions(problem)):\n",
    "        print(solution.to_file())\n",
    "        break"
   ]
  },
  {
   "cell_type": "code",
   "execution_count": null,
   "metadata": {},
   "outputs": [],
   "source": []
  }
 ],
 "metadata": {
  "kernelspec": {
   "display_name": "hashcode2020",
   "language": "python",
   "name": "hashcode2020"
  },
  "language_info": {
   "codemirror_mode": {
    "name": "ipython",
    "version": 3
   },
   "file_extension": ".py",
   "mimetype": "text/x-python",
   "name": "python",
   "nbconvert_exporter": "python",
   "pygments_lexer": "ipython3",
   "version": "3.7.5"
  }
 },
 "nbformat": 4,
 "nbformat_minor": 4
}
