{
 "cells": [
  {
   "cell_type": "code",
   "execution_count": 1,
   "metadata": {},
   "outputs": [
    {
     "name": "stdout",
     "output_type": "stream",
     "text": [
      "D:\\source\\hashcode2020\\src\n"
     ]
    }
   ],
   "source": [
    "%cd ../src"
   ]
  },
  {
   "cell_type": "code",
   "execution_count": 2,
   "metadata": {},
   "outputs": [],
   "source": [
    "import os\n",
    "\n",
    "from problem import Problem\n",
    "\n",
    "problems = {}\n",
    "\n",
    "folder = \"../data/problems\"\n",
    "\n",
    "for filename in os.listdir(folder):\n",
    "    \n",
    "    problems[filename[0]] = Problem(name=filename[0], filename=os.path.join(folder, filename))"
   ]
  },
  {
   "cell_type": "code",
   "execution_count": 3,
   "metadata": {},
   "outputs": [],
   "source": [
    "from solvers.random_solver import RandomSolver\n",
    "from solvers.greedy_solver import GreedySolver\n",
    "from solvers.raw_potential_solver import RawPotentialSolver\n",
    "\n",
    "# solver = RandomSolver()\n",
    "# solver = RawPotentialSolver()\n",
    "solver = GreedySolver()"
   ]
  },
  {
   "cell_type": "code",
   "execution_count": 4,
   "metadata": {},
   "outputs": [
    {
     "name": "stdout",
     "output_type": "stream",
     "text": [
      "../data/solutions/a.0.831e9644-abcc-4fb3-9494-f8d49cbada22.solution\n",
      "../data/solutions/b.0.13b49315-5596-4712-ae5f-ab18a926a187.solution\n",
      "../data/solutions/c.0.25e5f848-5214-4b69-a156-32b29e01fc0c.solution\n",
      "../data/solutions/d.0.5b1b18f4-0e8c-4d71-a7f0-f197728aa4a4.solution\n",
      "../data/solutions/e.0.2b1f1a39-e7d6-444b-bd08-08dfafa3f288.solution\n",
      "../data/solutions/f.0.5e9fb24a-206f-48be-bca5-8f93fdb51f8e.solution\n"
     ]
    }
   ],
   "source": [
    "for name, problem in problems.items():\n",
    "    \n",
    "    for i, solution in enumerate(solver.yield_solutions(problem)):\n",
    "        print(solution.to_file())\n",
    "        break"
   ]
  }
 ],
 "metadata": {
  "kernelspec": {
   "display_name": "hashcode2020",
   "language": "python",
   "name": "hashcode2020"
  },
  "language_info": {
   "codemirror_mode": {
    "name": "ipython",
    "version": 3
   },
   "file_extension": ".py",
   "mimetype": "text/x-python",
   "name": "python",
   "nbconvert_exporter": "python",
   "pygments_lexer": "ipython3",
   "version": "3.7.5"
  }
 },
 "nbformat": 4,
 "nbformat_minor": 4
}
